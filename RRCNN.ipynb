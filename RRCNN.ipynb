{
  "nbformat": 4,
  "nbformat_minor": 0,
  "metadata": {
    "colab": {
      "provenance": [],
      "mount_file_id": "1KwPPjUDZljJLzedf4Q5yJEu9Yw-QinuD",
      "authorship_tag": "ABX9TyOWMOelqpgWeLV/Z6vodTA9",
      "include_colab_link": true
    },
    "kernelspec": {
      "name": "python3",
      "display_name": "Python 3"
    },
    "language_info": {
      "name": "python"
    }
  },
  "cells": [
    {
      "cell_type": "markdown",
      "metadata": {
        "id": "view-in-github",
        "colab_type": "text"
      },
      "source": [
        "<a href=\"https://colab.research.google.com/github/tejash0901/DNA-Classification_RRCNN_LSTM/blob/main/RRCNN.ipynb\" target=\"_parent\"><img src=\"https://colab.research.google.com/assets/colab-badge.svg\" alt=\"Open In Colab\"/></a>"
      ]
    },
    {
      "cell_type": "code",
      "source": [
        "!pip install Bio"
      ],
      "metadata": {
        "colab": {
          "base_uri": "https://localhost:8080/"
        },
        "id": "2nwQ37XbQjSc",
        "outputId": "006a8131-eb7d-4865-cba2-6cdc3eed94a3"
      },
      "execution_count": null,
      "outputs": [
        {
          "output_type": "stream",
          "name": "stdout",
          "text": [
            "Looking in indexes: https://pypi.org/simple, https://us-python.pkg.dev/colab-wheels/public/simple/\n",
            "Requirement already satisfied: Bio in /usr/local/lib/python3.10/dist-packages (1.5.9)\n",
            "Requirement already satisfied: biopython>=1.80 in /usr/local/lib/python3.10/dist-packages (from Bio) (1.81)\n",
            "Requirement already satisfied: requests in /usr/local/lib/python3.10/dist-packages (from Bio) (2.27.1)\n",
            "Requirement already satisfied: tqdm in /usr/local/lib/python3.10/dist-packages (from Bio) (4.65.0)\n",
            "Requirement already satisfied: mygene in /usr/local/lib/python3.10/dist-packages (from Bio) (3.2.2)\n",
            "Requirement already satisfied: pandas in /usr/local/lib/python3.10/dist-packages (from Bio) (1.5.3)\n",
            "Requirement already satisfied: pooch in /usr/local/lib/python3.10/dist-packages (from Bio) (1.6.0)\n",
            "Requirement already satisfied: gprofiler-official in /usr/local/lib/python3.10/dist-packages (from Bio) (1.0.0)\n",
            "Requirement already satisfied: numpy in /usr/local/lib/python3.10/dist-packages (from biopython>=1.80->Bio) (1.22.4)\n",
            "Requirement already satisfied: biothings-client>=0.2.6 in /usr/local/lib/python3.10/dist-packages (from mygene->Bio) (0.3.0)\n",
            "Requirement already satisfied: python-dateutil>=2.8.1 in /usr/local/lib/python3.10/dist-packages (from pandas->Bio) (2.8.2)\n",
            "Requirement already satisfied: pytz>=2020.1 in /usr/local/lib/python3.10/dist-packages (from pandas->Bio) (2022.7.1)\n",
            "Requirement already satisfied: appdirs>=1.3.0 in /usr/local/lib/python3.10/dist-packages (from pooch->Bio) (1.4.4)\n",
            "Requirement already satisfied: packaging>=20.0 in /usr/local/lib/python3.10/dist-packages (from pooch->Bio) (23.1)\n",
            "Requirement already satisfied: urllib3<1.27,>=1.21.1 in /usr/local/lib/python3.10/dist-packages (from requests->Bio) (1.26.15)\n",
            "Requirement already satisfied: certifi>=2017.4.17 in /usr/local/lib/python3.10/dist-packages (from requests->Bio) (2022.12.7)\n",
            "Requirement already satisfied: charset-normalizer~=2.0.0 in /usr/local/lib/python3.10/dist-packages (from requests->Bio) (2.0.12)\n",
            "Requirement already satisfied: idna<4,>=2.5 in /usr/local/lib/python3.10/dist-packages (from requests->Bio) (3.4)\n",
            "Requirement already satisfied: six>=1.5 in /usr/local/lib/python3.10/dist-packages (from python-dateutil>=2.8.1->pandas->Bio) (1.16.0)\n"
          ]
        }
      ]
    },
    {
      "cell_type": "code",
      "execution_count": null,
      "metadata": {
        "id": "5633wAyyQVyl"
      },
      "outputs": [],
      "source": [
        "import numpy as np\n",
        "from Bio import SeqIO\n",
        "from imblearn.over_sampling import SMOTEN\n",
        "from sklearn.model_selection import train_test_split\n",
        "import tensorflow as tf\n",
        "from tensorflow import keras"
      ]
    },
    {
      "cell_type": "code",
      "source": [
        "classesDict = {0: \"MERS\", 1: \"SARS\"}\n",
        "\n",
        "attributes_list = []\n",
        "classes_list = []\n",
        "attrsSize = 0\n"
      ],
      "metadata": {
        "id": "6hcs5Z7bQhdo"
      },
      "execution_count": null,
      "outputs": []
    },
    {
      "cell_type": "code",
      "source": [
        "for key in classesDict:\n",
        "    fasta_file = \"/content/drive/MyDrive/data/sequences\" + classesDict[key] + \".fasta\"\n",
        "    fasta_sequences = SeqIO.parse(open(fasta_file), 'fasta')\n",
        "\n",
        "    for fasta in fasta_sequences:\n",
        "        attributes_list.append(str(fasta.seq))\n",
        "        classes_list.append(key)\n",
        "\n",
        "    class_size = len(classes_list) - attrsSize\n",
        "    print(\"class\", classesDict[key], \"size:\", class_size)\n",
        "    attrsSize = len(attributes_list)\n",
        "\n",
        "attributes = np.array(attributes_list)\n",
        "classes = np.array(classes_list)\n",
        "\n",
        "print(\"total attributes size before oversampling:\", attributes.shape[0])\n",
        "print(\"total classes size before oversampling:\", classes.shape[0])\n"
      ],
      "metadata": {
        "colab": {
          "base_uri": "https://localhost:8080/"
        },
        "id": "kATy8MDxQuy5",
        "outputId": "0bb1af02-e155-4be1-d411-95dec28231ba"
      },
      "execution_count": null,
      "outputs": [
        {
          "output_type": "stream",
          "name": "stdout",
          "text": [
            "class MERS size: 1453\n",
            "class SARS size: 674\n",
            "total attributes size before oversampling: 2127\n",
            "total classes size before oversampling: 2127\n"
          ]
        }
      ]
    },
    {
      "cell_type": "code",
      "source": [
        "attributes = attributes.reshape(-1, 1)\n",
        "\n",
        "oversampling_classes = {1: 1500}\n",
        "sampler = SMOTEN(sampling_strategy=oversampling_classes, random_state=0)\n",
        "X_res, y_res = sampler.fit_resample(attributes, classes)\n"
      ],
      "metadata": {
        "colab": {
          "base_uri": "https://localhost:8080/"
        },
        "id": "XBeUS99mQz5C",
        "outputId": "375556f5-b9e7-402c-d977-5147d16026b0"
      },
      "execution_count": null,
      "outputs": [
        {
          "output_type": "stream",
          "name": "stderr",
          "text": [
            "/usr/local/lib/python3.10/dist-packages/imblearn/utils/_validation.py:313: UserWarning: After over-sampling, the number of samples (1500) in class 1 will be larger than the number of samples in the majority class (class #0 -> 1453)\n",
            "  warnings.warn(\n"
          ]
        }
      ]
    },
    {
      "cell_type": "code",
      "source": [
        "maxSequence = 6000\n",
        "X_resBinarized = np.zeros((len(X_res), maxSequence), dtype=np.uint8)\n",
        "for i, sequence in enumerate(X_res):\n",
        "    sequenceStr = sequence[0]\n",
        "    sequenceBinarizedStr = \"\"\n",
        "    index = 0\n",
        "    for char in sequenceStr:\n",
        "        if index < maxSequence:\n",
        "            if char == 'a':\n",
        "                sequenceBinarizedStr += \"1\"\n",
        "            elif char == 'c':\n",
        "                sequenceBinarizedStr += \"2\"\n",
        "            elif char == 'g':\n",
        "                sequenceBinarizedStr += \"3\"\n",
        "            elif char == 't':\n",
        "                sequenceBinarizedStr += \"4\"\n",
        "            else:\n",
        "                sequenceBinarizedStr += \"0\"\n",
        "        index += 1\n",
        "\n",
        "    if len(sequenceStr) < maxSequence:\n",
        "        sequenceLength = len(sequenceStr)\n",
        "        while sequenceLength < maxSequence:\n",
        "            sequenceBinarizedStr += \"0\"\n",
        "            sequenceLength += 1\n",
        "\n",
        "    sequenceBinarized = np.array(list(sequenceBinarizedStr), dtype=np.uint8)\n",
        "    X_resBinarized[i] = sequenceBinarized\n",
        "\n",
        "x_train, x_test, y_train, y_test = train_test_split(X_resBinarized, y_res, test_size=0.3, random_state=4, stratify=y_res)\n",
        "\n",
        "print(\"x_train size: \", x_train.shape[0])\n",
        "print(\"y_train size: \", y_train.shape[0])\n",
        "print(\"x_test size: \", x_test.shape[0])\n",
        "print(\"y_test size: \", y_test.shape[0])"
      ],
      "metadata": {
        "colab": {
          "base_uri": "https://localhost:8080/"
        },
        "id": "EzqIWmTXQ3WP",
        "outputId": "606927d3-0f45-418d-b929-fd24262f8cf5"
      },
      "execution_count": null,
      "outputs": [
        {
          "output_type": "stream",
          "name": "stdout",
          "text": [
            "x_train size:  2067\n",
            "y_train size:  2067\n",
            "x_test size:  886\n",
            "y_test size:  886\n"
          ]
        }
      ]
    },
    {
      "cell_type": "code",
      "source": [
        "batch_size = 32\n",
        "num_classes = 5\n",
        "epochs = 3\n",
        "vocab_size = 5\n",
        "embedding_dim = 8\n",
        "maxlen = x_train.shape[1]\n",
        "y_train = keras.utils.to_categorical(y_train, num_classes)\n",
        "y_test = keras.utils.to_categorical(y_test, num_classes)\n",
        "y_test1 = np.argmax(y_test, axis=1)\n",
        "y_train1 = np.argmax(y_train, axis=1)"
      ],
      "metadata": {
        "id": "z6Rn9iK-RBcd"
      },
      "execution_count": null,
      "outputs": []
    },
    {
      "cell_type": "code",
      "source": [
        "from keras.models import Model\n",
        "from keras.layers import Input, Embedding, Conv1D, MaxPooling1D, Flatten, Dense, LSTM, Add\n",
        "\n",
        "# Input layer\n",
        "inputs = Input(shape=(maxlen,))\n",
        "\n",
        "# Embedding layer\n",
        "embedding = Embedding(input_dim=vocab_size, output_dim=embedding_dim, input_length=maxlen)(inputs)\n",
        "\n",
        "# Convolutional layers\n",
        "conv1 = Conv1D(128, 2, activation='relu')(embedding)\n",
        "pool1 = MaxPooling1D(pool_size=2)(conv1)\n",
        "\n",
        "conv2 = Conv1D(64, 2, activation='relu')(pool1)\n",
        "pool2 = MaxPooling1D(pool_size=2)(conv2)\n",
        "\n",
        "# Residual connection\n",
        "residual = Conv1D(64, 1)(pool2)  # 1x1 convolutional layer to match shapes\n",
        "residual = residual[:, :pool2.shape[1], :]  # Slice the residual tensor to match pool2 shape\n",
        "\n",
        "# LSTM layer\n",
        "lstm_input = Add()([pool2, residual])\n",
        "lstm = LSTM(64, return_sequences=True)(lstm_input)\n",
        "\n",
        "# Flatten layer\n",
        "flatten = Flatten()(lstm)\n",
        "\n",
        "# Dense layers\n",
        "dense1 = Dense(128, activation='relu')(flatten)\n",
        "dense2 = Dense(64, activation='relu')(dense1)\n",
        "\n",
        "# Output layer\n",
        "outputs = Dense(num_classes, activation='softmax')(dense2)\n",
        "\n",
        "# Create the model\n",
        "model = Model(inputs=inputs, outputs=outputs)\n",
        "\n",
        "# Print the model summary\n",
        "model.summary()\n"
      ],
      "metadata": {
        "colab": {
          "base_uri": "https://localhost:8080/"
        },
        "id": "WRY9_x56WhYD",
        "outputId": "073a1ff3-615f-46e5-df30-9ae30d5cca5c"
      },
      "execution_count": null,
      "outputs": [
        {
          "output_type": "stream",
          "name": "stdout",
          "text": [
            "Model: \"model_2\"\n",
            "__________________________________________________________________________________________________\n",
            " Layer (type)                   Output Shape         Param #     Connected to                     \n",
            "==================================================================================================\n",
            " input_8 (InputLayer)           [(None, 6000)]       0           []                               \n",
            "                                                                                                  \n",
            " embedding_9 (Embedding)        (None, 6000, 8)      40          ['input_8[0][0]']                \n",
            "                                                                                                  \n",
            " conv1d_35 (Conv1D)             (None, 5999, 128)    2176        ['embedding_9[0][0]']            \n",
            "                                                                                                  \n",
            " max_pooling1d_16 (MaxPooling1D  (None, 2999, 128)   0           ['conv1d_35[0][0]']              \n",
            " )                                                                                                \n",
            "                                                                                                  \n",
            " conv1d_36 (Conv1D)             (None, 2998, 64)     16448       ['max_pooling1d_16[0][0]']       \n",
            "                                                                                                  \n",
            " max_pooling1d_17 (MaxPooling1D  (None, 1499, 64)    0           ['conv1d_36[0][0]']              \n",
            " )                                                                                                \n",
            "                                                                                                  \n",
            " conv1d_37 (Conv1D)             (None, 1499, 64)     4160        ['max_pooling1d_17[0][0]']       \n",
            "                                                                                                  \n",
            " tf.__operators__.getitem_1 (Sl  (None, 1499, 64)    0           ['conv1d_37[0][0]']              \n",
            " icingOpLambda)                                                                                   \n",
            "                                                                                                  \n",
            " add_11 (Add)                   (None, 1499, 64)     0           ['max_pooling1d_17[0][0]',       \n",
            "                                                                  'tf.__operators__.getitem_1[0][0\n",
            "                                                                 ]']                              \n",
            "                                                                                                  \n",
            " lstm_2 (LSTM)                  (None, 1499, 64)     33024       ['add_11[0][0]']                 \n",
            "                                                                                                  \n",
            " flatten_2 (Flatten)            (None, 95936)        0           ['lstm_2[0][0]']                 \n",
            "                                                                                                  \n",
            " dense_6 (Dense)                (None, 128)          12279936    ['flatten_2[0][0]']              \n",
            "                                                                                                  \n",
            " dense_7 (Dense)                (None, 64)           8256        ['dense_6[0][0]']                \n",
            "                                                                                                  \n",
            " dense_8 (Dense)                (None, 5)            325         ['dense_7[0][0]']                \n",
            "                                                                                                  \n",
            "==================================================================================================\n",
            "Total params: 12,344,365\n",
            "Trainable params: 12,344,365\n",
            "Non-trainable params: 0\n",
            "__________________________________________________________________________________________________\n"
          ]
        }
      ]
    },
    {
      "cell_type": "code",
      "source": [
        "model.compile(loss='categorical_crossentropy',\n",
        "              optimizer='rmsprop',\n",
        "              metrics=['accuracy'])\n"
      ],
      "metadata": {
        "id": "jQ44U5eDRgdm"
      },
      "execution_count": null,
      "outputs": []
    },
    {
      "cell_type": "code",
      "source": [
        "from keras.utils import to_categorical\n",
        "\n",
        "# Convert target variable to one-hot encoded vectors\n",
        "y_train = to_categorical(y_train, num_classes)\n",
        "y_test = to_categorical(y_test, num_classes)\n"
      ],
      "metadata": {
        "id": "T80OruGwaYf_"
      },
      "execution_count": null,
      "outputs": []
    },
    {
      "cell_type": "code",
      "source": [
        "model.fit(x_train, y_train,\n",
        "          batch_size=batch_size,\n",
        "          epochs=epochs,\n",
        "          validation_data=(x_test, y_test),\n",
        "          shuffle=True)"
      ],
      "metadata": {
        "colab": {
          "base_uri": "https://localhost:8080/"
        },
        "id": "KSanv_izaIYa",
        "outputId": "4c2e9a90-3f83-4514-a2ed-dde76abf1622"
      },
      "execution_count": null,
      "outputs": [
        {
          "output_type": "stream",
          "name": "stdout",
          "text": [
            "Epoch 1/3\n",
            "65/65 [==============================] - 182s 3s/step - loss: 0.6917 - accuracy: 0.6913 - val_loss: 0.3498 - val_accuracy: 0.8826\n",
            "Epoch 2/3\n",
            "65/65 [==============================] - 177s 3s/step - loss: 0.2938 - accuracy: 0.8747 - val_loss: 0.2496 - val_accuracy: 0.8928\n",
            "Epoch 3/3\n",
            "65/65 [==============================] - 179s 3s/step - loss: 0.2316 - accuracy: 0.8902 - val_loss: 0.1881 - val_accuracy: 0.9142\n"
          ]
        },
        {
          "output_type": "execute_result",
          "data": {
            "text/plain": [
              "<keras.callbacks.History at 0x7f56c0ede500>"
            ]
          },
          "metadata": {},
          "execution_count": 59
        }
      ]
    },
    {
      "cell_type": "code",
      "source": [
        "y_predicted = model.predict(x_test)\n",
        "print(\"Prediction: \", y_predicted)\n"
      ],
      "metadata": {
        "colab": {
          "base_uri": "https://localhost:8080/"
        },
        "id": "GVYadvi8aLmq",
        "outputId": "adec7d85-8ff1-434b-b088-628a8fb7aae0"
      },
      "execution_count": null,
      "outputs": [
        {
          "output_type": "stream",
          "name": "stdout",
          "text": [
            "28/28 [==============================] - 19s 585ms/step\n",
            "Prediction:  [[9.88540471e-01 1.12663349e-02 1.44583146e-05 8.09248959e-05\n",
            "  9.77718882e-05]\n",
            " [9.85172331e-01 1.48049435e-02 3.93151822e-06 1.04246765e-05\n",
            "  8.37794960e-06]\n",
            " [3.75422724e-06 9.99996245e-01 9.60304725e-09 1.45301582e-09\n",
            "  2.95902303e-09]\n",
            " ...\n",
            " [9.87505317e-01 1.22817755e-02 1.58774055e-05 8.81408268e-05\n",
            "  1.08734195e-04]\n",
            " [3.72044593e-01 6.27525747e-01 1.23271413e-04 1.64029989e-04\n",
            "  1.42257253e-04]\n",
            " [3.75422769e-06 9.99996305e-01 9.60304725e-09 1.45301593e-09\n",
            "  2.95902325e-09]]\n"
          ]
        }
      ]
    },
    {
      "cell_type": "code",
      "source": [
        "y_pred_labels = np.argmax(y_predicted, axis=1)"
      ],
      "metadata": {
        "id": "8IASgtH1dXNX"
      },
      "execution_count": null,
      "outputs": []
    },
    {
      "cell_type": "code",
      "source": [
        "y_pred_labels"
      ],
      "metadata": {
        "colab": {
          "base_uri": "https://localhost:8080/"
        },
        "id": "DUzmjd9RddMm",
        "outputId": "581d115a-46b6-407a-b94e-c5568fe5c002"
      },
      "execution_count": null,
      "outputs": [
        {
          "output_type": "execute_result",
          "data": {
            "text/plain": [
              "array([0, 0, 1, 1, 1, 1, 0, 1, 0, 0, 0, 1, 1, 0, 1, 0, 0, 0, 1, 1, 0, 0,\n",
              "       0, 0, 0, 1, 0, 1, 1, 0, 1, 1, 0, 0, 0, 1, 1, 1, 0, 0, 1, 1, 0, 0,\n",
              "       0, 0, 1, 0, 0, 0, 1, 0, 1, 1, 0, 0, 1, 1, 1, 0, 0, 1, 1, 1, 0, 1,\n",
              "       1, 0, 1, 1, 1, 0, 0, 0, 0, 1, 0, 0, 1, 1, 1, 1, 0, 1, 0, 1, 0, 0,\n",
              "       1, 1, 1, 1, 1, 1, 0, 0, 1, 0, 1, 1, 1, 1, 1, 1, 1, 0, 1, 0, 1, 1,\n",
              "       1, 1, 0, 1, 1, 0, 1, 1, 1, 0, 1, 1, 1, 1, 1, 1, 0, 0, 1, 0, 1, 1,\n",
              "       0, 0, 1, 0, 0, 1, 0, 1, 1, 1, 0, 0, 0, 1, 0, 1, 0, 1, 0, 1, 0, 0,\n",
              "       1, 1, 0, 0, 0, 1, 1, 0, 0, 1, 0, 0, 1, 0, 0, 1, 0, 0, 0, 1, 1, 0,\n",
              "       1, 1, 0, 0, 1, 1, 0, 0, 1, 1, 1, 1, 0, 0, 0, 1, 1, 0, 0, 1, 0, 0,\n",
              "       1, 0, 1, 0, 0, 0, 1, 0, 0, 1, 0, 1, 1, 1, 0, 0, 0, 1, 1, 1, 1, 1,\n",
              "       1, 0, 1, 0, 0, 0, 1, 1, 0, 0, 1, 1, 1, 0, 0, 0, 0, 1, 0, 1, 1, 1,\n",
              "       0, 0, 0, 0, 0, 1, 1, 1, 1, 1, 1, 1, 1, 1, 1, 1, 0, 0, 0, 1, 1, 0,\n",
              "       1, 1, 1, 0, 0, 0, 1, 0, 1, 1, 1, 1, 1, 1, 1, 0, 1, 0, 1, 0, 1, 0,\n",
              "       1, 1, 1, 0, 0, 0, 1, 1, 0, 1, 0, 1, 1, 0, 0, 0, 1, 1, 0, 1, 0, 0,\n",
              "       0, 1, 0, 1, 1, 0, 0, 1, 1, 1, 1, 1, 1, 0, 0, 1, 0, 1, 1, 0, 1, 1,\n",
              "       0, 1, 1, 1, 1, 1, 1, 0, 0, 1, 0, 0, 0, 1, 1, 0, 1, 1, 1, 0, 1, 0,\n",
              "       0, 1, 1, 1, 0, 1, 1, 1, 1, 0, 1, 0, 0, 1, 1, 1, 0, 0, 1, 0, 0, 1,\n",
              "       0, 1, 1, 1, 1, 0, 1, 1, 1, 0, 0, 0, 1, 1, 1, 0, 1, 1, 0, 0, 1, 1,\n",
              "       0, 1, 1, 1, 1, 0, 0, 1, 1, 1, 1, 0, 0, 0, 1, 1, 1, 1, 0, 0, 1, 1,\n",
              "       1, 1, 1, 0, 1, 0, 0, 0, 1, 1, 0, 0, 0, 1, 1, 1, 0, 1, 1, 1, 1, 0,\n",
              "       1, 0, 1, 1, 1, 1, 1, 1, 1, 0, 0, 0, 1, 0, 0, 1, 1, 1, 0, 1, 1, 1,\n",
              "       1, 0, 1, 1, 1, 0, 1, 0, 0, 1, 0, 0, 0, 0, 0, 1, 0, 1, 1, 0, 1, 0,\n",
              "       0, 1, 1, 1, 1, 0, 1, 0, 0, 0, 0, 1, 0, 1, 0, 1, 1, 1, 0, 1, 0, 1,\n",
              "       1, 0, 0, 1, 1, 0, 1, 0, 1, 1, 0, 1, 1, 0, 0, 1, 1, 1, 1, 1, 1, 1,\n",
              "       1, 1, 0, 0, 0, 1, 0, 1, 1, 1, 1, 0, 1, 1, 1, 0, 0, 1, 1, 1, 0, 0,\n",
              "       0, 0, 0, 0, 1, 0, 0, 0, 0, 0, 1, 1, 1, 0, 0, 1, 0, 0, 1, 0, 1, 0,\n",
              "       1, 1, 1, 0, 1, 0, 0, 1, 1, 0, 1, 1, 0, 0, 1, 1, 1, 1, 0, 0, 0, 1,\n",
              "       0, 0, 1, 1, 1, 1, 0, 0, 1, 0, 1, 1, 0, 0, 0, 0, 1, 1, 0, 1, 1, 0,\n",
              "       0, 1, 1, 1, 1, 1, 1, 0, 1, 1, 1, 0, 1, 1, 0, 0, 1, 1, 0, 0, 1, 0,\n",
              "       0, 0, 1, 1, 1, 1, 0, 0, 1, 1, 0, 1, 1, 0, 0, 1, 0, 1, 0, 1, 1, 0,\n",
              "       1, 1, 1, 0, 0, 1, 1, 1, 0, 1, 1, 1, 0, 1, 0, 0, 0, 0, 1, 1, 1, 1,\n",
              "       0, 1, 0, 0, 1, 0, 0, 0, 1, 1, 1, 0, 1, 1, 1, 0, 1, 1, 1, 1, 0, 1,\n",
              "       0, 1, 1, 0, 1, 0, 1, 1, 0, 1, 1, 0, 0, 0, 0, 1, 0, 0, 0, 0, 0, 1,\n",
              "       0, 1, 1, 0, 0, 1, 1, 0, 0, 0, 1, 1, 1, 1, 0, 1, 0, 1, 1, 0, 0, 1,\n",
              "       1, 1, 0, 1, 1, 0, 0, 0, 1, 0, 0, 1, 0, 1, 1, 1, 1, 1, 1, 0, 1, 0,\n",
              "       1, 1, 0, 0, 0, 1, 0, 1, 1, 0, 1, 0, 0, 1, 1, 1, 1, 0, 1, 1, 1, 1,\n",
              "       0, 1, 1, 1, 1, 0, 1, 1, 0, 1, 1, 0, 1, 0, 1, 0, 1, 0, 0, 1, 1, 1,\n",
              "       1, 0, 0, 1, 0, 1, 1, 0, 1, 1, 0, 1, 1, 0, 0, 1, 1, 1, 0, 1, 1, 1,\n",
              "       1, 0, 1, 1, 1, 1, 1, 1, 0, 1, 0, 1, 0, 0, 0, 1, 1, 0, 0, 1, 1, 1,\n",
              "       1, 0, 1, 1, 0, 1, 0, 1, 0, 1, 1, 1, 1, 1, 0, 1, 1, 0, 0, 0, 1, 1,\n",
              "       0, 1, 0, 0, 1, 1])"
            ]
          },
          "metadata": {},
          "execution_count": 62
        }
      ]
    },
    {
      "cell_type": "code",
      "source": [
        "from sklearn import metrics\n",
        "\n",
        "print(\"Confusion matrix\")\n",
        "confusion_matrix = metrics.confusion_matrix(y_true=y_test1, y_pred=y_pred_labels)\n",
        "print(confusion_matrix)\n",
        "target_names = ['Mers', 'Sars']\n",
        "disp = metrics.ConfusionMatrixDisplay(confusion_matrix=confusion_matrix, display_labels=target_names)\n",
        "disp.plot()\n",
        "\n",
        "print()\n",
        "print(\"Classification report\")\n",
        "report = metrics.classification_report(y_test1, y_pred_labels, target_names=target_names)\n",
        "print(report)\n"
      ],
      "metadata": {
        "colab": {
          "base_uri": "https://localhost:8080/",
          "height": 692
        },
        "id": "rLK8r1GMdfYR",
        "outputId": "4a9fa3e4-1e8b-44c0-a236-a38ef17e15c7"
      },
      "execution_count": null,
      "outputs": [
        {
          "output_type": "stream",
          "name": "stdout",
          "text": [
            "Confusion matrix\n",
            "[[372  64]\n",
            " [ 12 438]]\n",
            "\n",
            "Classification report\n",
            "              precision    recall  f1-score   support\n",
            "\n",
            "        Mers       0.97      0.85      0.91       436\n",
            "        Sars       0.87      0.97      0.92       450\n",
            "\n",
            "    accuracy                           0.91       886\n",
            "   macro avg       0.92      0.91      0.91       886\n",
            "weighted avg       0.92      0.91      0.91       886\n",
            "\n"
          ]
        },
        {
          "output_type": "display_data",
          "data": {
            "text/plain": [
              "<Figure size 640x480 with 2 Axes>"
            ],
            "image/png": "[encoded data removed]"
          },
          "metadata": {}
        }
      ]
    },
    {
      "cell_type": "code",
      "source": [
        "model.save('model1.h5')\n"
      ],
      "metadata": {
        "id": "azEGerVBdiUE"
      },
      "execution_count": null,
      "outputs": []
    },
    {
      "cell_type": "code",
      "source": [],
      "metadata": {
        "id": "g3uht8PPeGhP"
      },
      "execution_count": null,
      "outputs": []
    }
  ]
}